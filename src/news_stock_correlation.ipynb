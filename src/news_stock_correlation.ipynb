{
 "cells": [
  {
   "cell_type": "code",
   "execution_count": 5,
   "id": "9650f1d4",
   "metadata": {},
   "outputs": [],
   "source": [
    "import sys\n",
    "import os\n",
    "\n",
    "# Add the parent directory to the Python path\n",
    "sys.path.append(os.path.abspath(\"..\"))\n",
    "import pandas as pd\n",
    "from src.data_loader import load_all_stock_data\n",
    "from src.sentiment_analysis import compute_sentiment\n",
    "from src.correlation_analysis import align_dates, calculate_correlation\n"
   ]
  },
  {
   "cell_type": "code",
   "execution_count": 6,
   "id": "c241df32",
   "metadata": {},
   "outputs": [
    {
     "name": "stderr",
     "output_type": "stream",
     "text": [
      "c:\\Users\\helin\\financial-news-sentiment\\src\\data_loader.py:36: FutureWarning: DataFrame.fillna with 'method' is deprecated and will raise in a future version. Use obj.ffill() or obj.bfill() instead.\n",
      "  df.fillna(method=\"ffill\", inplace=True)  # Forward fill missing values\n",
      "c:\\Users\\helin\\financial-news-sentiment\\src\\data_loader.py:36: FutureWarning: DataFrame.fillna with 'method' is deprecated and will raise in a future version. Use obj.ffill() or obj.bfill() instead.\n",
      "  df.fillna(method=\"ffill\", inplace=True)  # Forward fill missing values\n",
      "c:\\Users\\helin\\financial-news-sentiment\\src\\data_loader.py:36: FutureWarning: DataFrame.fillna with 'method' is deprecated and will raise in a future version. Use obj.ffill() or obj.bfill() instead.\n",
      "  df.fillna(method=\"ffill\", inplace=True)  # Forward fill missing values\n",
      "c:\\Users\\helin\\financial-news-sentiment\\src\\data_loader.py:36: FutureWarning: DataFrame.fillna with 'method' is deprecated and will raise in a future version. Use obj.ffill() or obj.bfill() instead.\n",
      "  df.fillna(method=\"ffill\", inplace=True)  # Forward fill missing values\n",
      "c:\\Users\\helin\\financial-news-sentiment\\src\\data_loader.py:36: FutureWarning: DataFrame.fillna with 'method' is deprecated and will raise in a future version. Use obj.ffill() or obj.bfill() instead.\n",
      "  df.fillna(method=\"ffill\", inplace=True)  # Forward fill missing values\n",
      "c:\\Users\\helin\\financial-news-sentiment\\src\\data_loader.py:36: FutureWarning: DataFrame.fillna with 'method' is deprecated and will raise in a future version. Use obj.ffill() or obj.bfill() instead.\n",
      "  df.fillna(method=\"ffill\", inplace=True)  # Forward fill missing values\n",
      "c:\\Users\\helin\\financial-news-sentiment\\src\\data_loader.py:36: FutureWarning: DataFrame.fillna with 'method' is deprecated and will raise in a future version. Use obj.ffill() or obj.bfill() instead.\n",
      "  df.fillna(method=\"ffill\", inplace=True)  # Forward fill missing values\n"
     ]
    }
   ],
   "source": [
    "from src.data_loader import load_all_stock_data\n",
    "import pandas as pd\n",
    "# Load stock and news data\n",
    "stock_data = load_all_stock_data('../data/raw/yfinance_data')\n",
    "news_df = pd.read_csv('../data/raw/raw_analyst_ratings.csv')\n"
   ]
  },
  {
   "cell_type": "code",
   "execution_count": 13,
   "id": "f7d64864",
   "metadata": {},
   "outputs": [
    {
     "name": "stdout",
     "output_type": "stream",
     "text": [
      "Aligning data for AAPL...\n",
      "Warning: align_dates returned None for AAPL\n",
      "Aligning data for AMZN...\n",
      "Warning: align_dates returned None for AMZN\n",
      "Aligning data for GOOG...\n",
      "Warning: align_dates returned None for GOOG\n",
      "Aligning data for META...\n",
      "Warning: align_dates returned None for META\n",
      "Aligning data for MSFT...\n",
      "Warning: align_dates returned None for MSFT\n",
      "Aligning data for NVDA...\n",
      "Warning: align_dates returned None for NVDA\n",
      "Aligning data for TSLA...\n",
      "Warning: align_dates returned None for TSLA\n",
      "No aligned data available for AAPL\n"
     ]
    }
   ],
   "source": [
    "aligned_data_dict = {}\n",
    "\n",
    "for ticker, df in stock_data.items():\n",
    "    print(f\"Aligning data for {ticker}...\")\n",
    "    aligned_df = align_dates(df, news_df)\n",
    "\n",
    "    if aligned_df is None:\n",
    "        print(f\"Warning: align_dates returned None for {ticker}\")\n",
    "    else:\n",
    "        print(f\"Aligned data shape for {ticker}: {aligned_df.shape}\")\n",
    "\n",
    "    aligned_data_dict[ticker] = aligned_df\n",
    "\n",
    "# Example preview for AAPL\n",
    "if aligned_data_dict.get('AAPL') is not None:\n",
    "    print(\"Aligned data preview for AAPL:\")\n",
    "    print(aligned_data_dict['AAPL'].head())\n",
    "else:\n",
    "    print(\"No aligned data available for AAPL\")\n"
   ]
  },
  {
   "cell_type": "code",
   "execution_count": 14,
   "id": "a998001e",
   "metadata": {},
   "outputs": [],
   "source": [
    "# Compute sentiment scores for news headlines\n",
    "aligned_df = compute_sentiment(aligned_df)\n"
   ]
  },
  {
   "cell_type": "code",
   "execution_count": 15,
   "id": "09f4da36",
   "metadata": {},
   "outputs": [
    {
     "ename": "TypeError",
     "evalue": "'NoneType' object is not subscriptable",
     "output_type": "error",
     "traceback": [
      "\u001b[31m---------------------------------------------------------------------------\u001b[39m",
      "\u001b[31mTypeError\u001b[39m                                 Traceback (most recent call last)",
      "\u001b[36mCell\u001b[39m\u001b[36m \u001b[39m\u001b[32mIn[15]\u001b[39m\u001b[32m, line 2\u001b[39m\n\u001b[32m      1\u001b[39m \u001b[38;5;66;03m# Add daily stock returns to the aligned dataset\u001b[39;00m\n\u001b[32m----> \u001b[39m\u001b[32m2\u001b[39m aligned_df[\u001b[33m\"\u001b[39m\u001b[33mDaily Return\u001b[39m\u001b[33m\"\u001b[39m] = \u001b[43maligned_df\u001b[49m\u001b[43m[\u001b[49m\u001b[33;43m\"\u001b[39;49m\u001b[33;43mClose\u001b[39;49m\u001b[33;43m\"\u001b[39;49m\u001b[43m]\u001b[49m.pct_change()\n",
      "\u001b[31mTypeError\u001b[39m: 'NoneType' object is not subscriptable"
     ]
    }
   ],
   "source": [
    "# Add daily stock returns to the aligned dataset\n",
    "aligned_df[\"Daily Return\"] = aligned_df[\"Close\"].pct_change()\n"
   ]
  },
  {
   "cell_type": "code",
   "execution_count": 16,
   "id": "b45c7533",
   "metadata": {},
   "outputs": [
    {
     "ename": "TypeError",
     "evalue": "unsupported format string passed to NoneType.__format__",
     "output_type": "error",
     "traceback": [
      "\u001b[31m---------------------------------------------------------------------------\u001b[39m",
      "\u001b[31mTypeError\u001b[39m                                 Traceback (most recent call last)",
      "\u001b[36mCell\u001b[39m\u001b[36m \u001b[39m\u001b[32mIn[16]\u001b[39m\u001b[32m, line 3\u001b[39m\n\u001b[32m      1\u001b[39m \u001b[38;5;66;03m# Calculate the correlation coefficient\u001b[39;00m\n\u001b[32m      2\u001b[39m correlation = calculate_correlation(aligned_df)\n\u001b[32m----> \u001b[39m\u001b[32m3\u001b[39m \u001b[38;5;28mprint\u001b[39m(\u001b[33mf\u001b[39m\u001b[33m\"\u001b[39m\u001b[33mCorrelation between sentiment and daily returns for \u001b[39m\u001b[38;5;132;01m{\u001b[39;00mticker\u001b[38;5;132;01m}\u001b[39;00m\u001b[33m: \u001b[39m\u001b[38;5;132;01m{\u001b[39;00mcorrelation\u001b[38;5;132;01m:\u001b[39;00m\u001b[33m.2f\u001b[39m\u001b[38;5;132;01m}\u001b[39;00m\u001b[33m\"\u001b[39m)\n",
      "\u001b[31mTypeError\u001b[39m: unsupported format string passed to NoneType.__format__"
     ]
    }
   ],
   "source": [
    "# Calculate the correlation coefficient\n",
    "correlation = calculate_correlation(aligned_df)\n",
    "print(f\"Correlation between sentiment and daily returns for {ticker}: {correlation:.2f}\")\n"
   ]
  },
  {
   "cell_type": "code",
   "execution_count": 17,
   "id": "96b652cd",
   "metadata": {},
   "outputs": [
    {
     "ename": "TypeError",
     "evalue": "'NoneType' object is not subscriptable",
     "output_type": "error",
     "traceback": [
      "\u001b[31m---------------------------------------------------------------------------\u001b[39m",
      "\u001b[31mTypeError\u001b[39m                                 Traceback (most recent call last)",
      "\u001b[36mCell\u001b[39m\u001b[36m \u001b[39m\u001b[32mIn[17]\u001b[39m\u001b[32m, line 5\u001b[39m\n\u001b[32m      3\u001b[39m \u001b[38;5;66;03m# Plot sentiment scores and daily returns\u001b[39;00m\n\u001b[32m      4\u001b[39m plt.figure(figsize=(\u001b[32m12\u001b[39m, \u001b[32m6\u001b[39m))\n\u001b[32m----> \u001b[39m\u001b[32m5\u001b[39m plt.plot(\u001b[43maligned_df\u001b[49m\u001b[43m[\u001b[49m\u001b[33;43m\"\u001b[39;49m\u001b[33;43mDate\u001b[39;49m\u001b[33;43m\"\u001b[39;49m\u001b[43m]\u001b[49m, aligned_df[\u001b[33m\"\u001b[39m\u001b[33mSentiment\u001b[39m\u001b[33m\"\u001b[39m], label=\u001b[33m\"\u001b[39m\u001b[33mSentiment Score\u001b[39m\u001b[33m\"\u001b[39m)\n\u001b[32m      6\u001b[39m plt.plot(aligned_df[\u001b[33m\"\u001b[39m\u001b[33mDate\u001b[39m\u001b[33m\"\u001b[39m], aligned_df[\u001b[33m\"\u001b[39m\u001b[33mDaily Return\u001b[39m\u001b[33m\"\u001b[39m], label=\u001b[33m\"\u001b[39m\u001b[33mDaily Return\u001b[39m\u001b[33m\"\u001b[39m)\n\u001b[32m      7\u001b[39m plt.legend()\n",
      "\u001b[31mTypeError\u001b[39m: 'NoneType' object is not subscriptable"
     ]
    },
    {
     "data": {
      "text/plain": [
       "<Figure size 1200x600 with 0 Axes>"
      ]
     },
     "metadata": {},
     "output_type": "display_data"
    }
   ],
   "source": [
    "import matplotlib.pyplot as plt\n",
    "\n",
    "# Plot sentiment scores and daily returns\n",
    "plt.figure(figsize=(12, 6))\n",
    "plt.plot(aligned_df[\"Date\"], aligned_df[\"Sentiment\"], label=\"Sentiment Score\")\n",
    "plt.plot(aligned_df[\"Date\"], aligned_df[\"Daily Return\"], label=\"Daily Return\")\n",
    "plt.legend()\n",
    "plt.title(f\"Sentiment Scores and Daily Returns for {ticker}\")\n",
    "plt.xlabel(\"Date\")\n",
    "plt.ylabel(\"Value\")\n",
    "plt.show()\n"
   ]
  },
  {
   "cell_type": "code",
   "execution_count": null,
   "id": "bea937a3",
   "metadata": {},
   "outputs": [],
   "source": []
  }
 ],
 "metadata": {
  "kernelspec": {
   "display_name": ".venv",
   "language": "python",
   "name": "python3"
  },
  "language_info": {
   "codemirror_mode": {
    "name": "ipython",
    "version": 3
   },
   "file_extension": ".py",
   "mimetype": "text/x-python",
   "name": "python",
   "nbconvert_exporter": "python",
   "pygments_lexer": "ipython3",
   "version": "3.11.0"
  }
 },
 "nbformat": 4,
 "nbformat_minor": 5
}
