{
 "cells": [
  {
   "cell_type": "markdown",
   "id": "fd42d41c",
   "metadata": {},
   "source": [
    "# Stock Analysis Notebook"
   ]
  },
  {
   "cell_type": "markdown",
   "id": "c28a7537",
   "metadata": {},
   "source": [
    "### Introduction\n",
    "- In this notebook, we analyze stock data using technical indicators and financial metrics. The results are visualized to provide insights into the stock performance.\n"
   ]
  },
  {
   "cell_type": "markdown",
   "id": "a556c017",
   "metadata": {},
   "source": [
    "Cell 1: Notebook Title and Introduction"
   ]
  },
  {
   "cell_type": "code",
   "execution_count": 3,
   "id": "c6effefa",
   "metadata": {},
   "outputs": [],
   "source": [
    "# Add the project root to the Python path\n",
    "import sys\n",
    "from pathlib import Path\n",
    "\n",
    "# Get the project root (adjust as necessary)\n",
    "project_root = Path(\"../\").resolve()\n",
    "if str(project_root) not in sys.path:\n",
    "    sys.path.append(str(project_root))\n"
   ]
  },
  {
   "cell_type": "markdown",
   "id": "e0c7e3d0",
   "metadata": {},
   "source": [
    "Cell 2: Import Libraries and Modules"
   ]
  },
  {
   "cell_type": "code",
   "execution_count": 5,
   "id": "e62c00d3",
   "metadata": {},
   "outputs": [],
   "source": [
    "# Import Libraries and Modules\n",
    "from src.data_loader import load_all_stock_data\n",
    "# from src.indicators import add_ta_indicators\n",
    "from src.financial_metrics import calculate_all_metrics\n",
    "from src.visualization import plot_price_with_indicators, plot_rsi, plot_macd"
   ]
  },
  {
   "cell_type": "markdown",
   "id": "3ed5b0dd",
   "metadata": {},
   "source": [
    "Ensure the data is loaded into a pandas DataFrame with columns: Open, High, Low, Close, and Volume."
   ]
  },
  {
   "cell_type": "code",
   "execution_count": 13,
   "id": "bd79fdc8",
   "metadata": {},
   "outputs": [
    {
     "name": "stdout",
     "output_type": "stream",
     "text": [
      "Previewing data for: AAPL\n",
      "\n",
      "                Open      High       Low     Close  Adj Close     Volume  \\\n",
      "Date                                                                       \n",
      "1980-12-12  0.128348  0.128906  0.128348  0.128348   0.098943  469033600   \n",
      "1980-12-15  0.122210  0.122210  0.121652  0.121652   0.093781  175884800   \n",
      "1980-12-16  0.113281  0.113281  0.112723  0.112723   0.086898  105728000   \n",
      "1980-12-17  0.115513  0.116071  0.115513  0.115513   0.089049   86441600   \n",
      "1980-12-18  0.118862  0.119420  0.118862  0.118862   0.091630   73449600   \n",
      "1980-12-19  0.126116  0.126674  0.126116  0.126116   0.097223   48630400   \n",
      "1980-12-22  0.132254  0.132813  0.132254  0.132254   0.101954   37363200   \n",
      "1980-12-23  0.137835  0.138393  0.137835  0.137835   0.106257   46950400   \n",
      "1980-12-24  0.145089  0.145647  0.145089  0.145089   0.111849   48003200   \n",
      "1980-12-26  0.158482  0.159040  0.158482  0.158482   0.122173   55574400   \n",
      "\n",
      "            Dividends  Stock Splits  \n",
      "Date                                 \n",
      "1980-12-12        0.0           0.0  \n",
      "1980-12-15        0.0           0.0  \n",
      "1980-12-16        0.0           0.0  \n",
      "1980-12-17        0.0           0.0  \n",
      "1980-12-18        0.0           0.0  \n",
      "1980-12-19        0.0           0.0  \n",
      "1980-12-22        0.0           0.0  \n",
      "1980-12-23        0.0           0.0  \n",
      "1980-12-24        0.0           0.0  \n",
      "1980-12-26        0.0           0.0  \n",
      "\n",
      "Column Names:\n",
      "['Open', 'High', 'Low', 'Close', 'Adj Close', 'Volume', 'Dividends', 'Stock Splits']\n"
     ]
    },
    {
     "name": "stderr",
     "output_type": "stream",
     "text": [
      "C:\\Users\\helin\\financial-news-sentiment\\src\\data_loader.py:36: FutureWarning: DataFrame.fillna with 'method' is deprecated and will raise in a future version. Use obj.ffill() or obj.bfill() instead.\n",
      "  df.fillna(method=\"ffill\", inplace=True)  # Forward fill missing values\n",
      "C:\\Users\\helin\\financial-news-sentiment\\src\\data_loader.py:36: FutureWarning: DataFrame.fillna with 'method' is deprecated and will raise in a future version. Use obj.ffill() or obj.bfill() instead.\n",
      "  df.fillna(method=\"ffill\", inplace=True)  # Forward fill missing values\n",
      "C:\\Users\\helin\\financial-news-sentiment\\src\\data_loader.py:36: FutureWarning: DataFrame.fillna with 'method' is deprecated and will raise in a future version. Use obj.ffill() or obj.bfill() instead.\n",
      "  df.fillna(method=\"ffill\", inplace=True)  # Forward fill missing values\n",
      "C:\\Users\\helin\\financial-news-sentiment\\src\\data_loader.py:36: FutureWarning: DataFrame.fillna with 'method' is deprecated and will raise in a future version. Use obj.ffill() or obj.bfill() instead.\n",
      "  df.fillna(method=\"ffill\", inplace=True)  # Forward fill missing values\n",
      "C:\\Users\\helin\\financial-news-sentiment\\src\\data_loader.py:36: FutureWarning: DataFrame.fillna with 'method' is deprecated and will raise in a future version. Use obj.ffill() or obj.bfill() instead.\n",
      "  df.fillna(method=\"ffill\", inplace=True)  # Forward fill missing values\n",
      "C:\\Users\\helin\\financial-news-sentiment\\src\\data_loader.py:36: FutureWarning: DataFrame.fillna with 'method' is deprecated and will raise in a future version. Use obj.ffill() or obj.bfill() instead.\n",
      "  df.fillna(method=\"ffill\", inplace=True)  # Forward fill missing values\n",
      "C:\\Users\\helin\\financial-news-sentiment\\src\\data_loader.py:36: FutureWarning: DataFrame.fillna with 'method' is deprecated and will raise in a future version. Use obj.ffill() or obj.bfill() instead.\n",
      "  df.fillna(method=\"ffill\", inplace=True)  # Forward fill missing values\n"
     ]
    }
   ],
   "source": [
    "# Preview the first 10 rows and column names of the loaded data\n",
    "stock_data = load_all_stock_data('../data/raw/yfinance_data')  # Update the path as needed\n",
    "sample_ticker = list(stock_data.keys())[0]  # Select the first ticker for preview\n",
    "print(f\"Previewing data for: {sample_ticker}\\n\")\n",
    "print(stock_data[sample_ticker].head(10))  # First 10 rows\n",
    "print(\"\\nColumn Names:\")\n",
    "print(stock_data[sample_ticker].columns.tolist())  # Column names\n"
   ]
  },
  {
   "cell_type": "markdown",
   "id": "faa022b0",
   "metadata": {},
   "source": [
    "Cell 3: Load Data"
   ]
  },
  {
   "cell_type": "code",
   "execution_count": 6,
   "id": "b162cf6e",
   "metadata": {},
   "outputs": [
    {
     "name": "stdout",
     "output_type": "stream",
     "text": [
      "Available tickers: ['AAPL', 'AMZN', 'GOOG', 'META', 'MSFT', 'NVDA', 'TSLA']\n"
     ]
    },
    {
     "name": "stderr",
     "output_type": "stream",
     "text": [
      "C:\\Users\\helin\\financial-news-sentiment\\src\\data_loader.py:36: FutureWarning: DataFrame.fillna with 'method' is deprecated and will raise in a future version. Use obj.ffill() or obj.bfill() instead.\n",
      "  df.fillna(method=\"ffill\", inplace=True)  # Forward fill missing values\n",
      "C:\\Users\\helin\\financial-news-sentiment\\src\\data_loader.py:36: FutureWarning: DataFrame.fillna with 'method' is deprecated and will raise in a future version. Use obj.ffill() or obj.bfill() instead.\n",
      "  df.fillna(method=\"ffill\", inplace=True)  # Forward fill missing values\n",
      "C:\\Users\\helin\\financial-news-sentiment\\src\\data_loader.py:36: FutureWarning: DataFrame.fillna with 'method' is deprecated and will raise in a future version. Use obj.ffill() or obj.bfill() instead.\n",
      "  df.fillna(method=\"ffill\", inplace=True)  # Forward fill missing values\n",
      "C:\\Users\\helin\\financial-news-sentiment\\src\\data_loader.py:36: FutureWarning: DataFrame.fillna with 'method' is deprecated and will raise in a future version. Use obj.ffill() or obj.bfill() instead.\n",
      "  df.fillna(method=\"ffill\", inplace=True)  # Forward fill missing values\n",
      "C:\\Users\\helin\\financial-news-sentiment\\src\\data_loader.py:36: FutureWarning: DataFrame.fillna with 'method' is deprecated and will raise in a future version. Use obj.ffill() or obj.bfill() instead.\n",
      "  df.fillna(method=\"ffill\", inplace=True)  # Forward fill missing values\n",
      "C:\\Users\\helin\\financial-news-sentiment\\src\\data_loader.py:36: FutureWarning: DataFrame.fillna with 'method' is deprecated and will raise in a future version. Use obj.ffill() or obj.bfill() instead.\n",
      "  df.fillna(method=\"ffill\", inplace=True)  # Forward fill missing values\n",
      "C:\\Users\\helin\\financial-news-sentiment\\src\\data_loader.py:36: FutureWarning: DataFrame.fillna with 'method' is deprecated and will raise in a future version. Use obj.ffill() or obj.bfill() instead.\n",
      "  df.fillna(method=\"ffill\", inplace=True)  # Forward fill missing values\n"
     ]
    }
   ],
   "source": [
    "# ### Load Data\n",
    "# Load all stock data from the raw data folder.\n",
    "# Update the path to match your local file structure.\n",
    "stock_data = load_all_stock_data('../data/raw/yfinance_data')\n",
    "\n",
    "# Display available tickers\n",
    "tickers = list(stock_data.keys())\n",
    "print(f\"Available tickers: {tickers}\")\n"
   ]
  },
  {
   "cell_type": "markdown",
   "id": "5eab6d01",
   "metadata": {},
   "source": [
    "Cell 4: Process and Analyze All Stocks"
   ]
  },
  {
   "cell_type": "code",
   "execution_count": 14,
   "id": "48b1004e",
   "metadata": {},
   "outputs": [
    {
     "name": "stdout",
     "output_type": "stream",
     "text": [
      "Processing AAPL...\n",
      "Metrics for AAPL:\n",
      "Annualized Volatility: 0.44\n",
      "Sharpe Ratio: 0.59\n",
      "Cumulative Return: 1704.74\n",
      "Processing AMZN...\n",
      "Metrics for AMZN:\n",
      "Annualized Volatility: 0.56\n",
      "Sharpe Ratio: 0.75\n",
      "Cumulative Return: 1855.76\n",
      "Processing GOOG...\n",
      "Metrics for GOOG:\n",
      "Annualized Volatility: 0.31\n",
      "Sharpe Ratio: 0.81\n",
      "Cumulative Return: 68.77\n",
      "Processing META...\n",
      "Metrics for META:\n",
      "Annualized Volatility: 0.39\n",
      "Sharpe Ratio: 0.80\n",
      "Cumulative Return: 16.79\n",
      "Processing MSFT...\n",
      "Metrics for MSFT:\n",
      "Annualized Volatility: 0.34\n",
      "Sharpe Ratio: 0.79\n",
      "Cumulative Return: 4350.04\n",
      "Processing NVDA...\n",
      "Metrics for NVDA:\n",
      "Annualized Volatility: 0.60\n",
      "Sharpe Ratio: 0.79\n",
      "Cumulative Return: 2529.01\n",
      "Processing TSLA...\n",
      "Metrics for TSLA:\n",
      "Annualized Volatility: 0.57\n",
      "Sharpe Ratio: 0.88\n",
      "Cumulative Return: 139.78\n"
     ]
    }
   ],
   "source": [
    "# ### Process and Analyze All Stocks\n",
    "for ticker, df in stock_data.items():\n",
    "    print(f\"Processing {ticker}...\")\n",
    "\n",
    "    # Add technical indicators\n",
    "    #df = add_ta_indicators(df)\n",
    "\n",
    "    # Calculate financial metrics\n",
    "    metrics = calculate_all_metrics(df)\n",
    "\n",
    "    # Display metrics\n",
    "    print(f\"Metrics for {ticker}:\")\n",
    "    for key, value in metrics.items():\n",
    "        print(f\"{key}: {value:.2f}\")\n",
    "\n",
    "    # Visualize results\n",
    "    #plot_price_with_indicators(df, ticker)\n",
    "    #plot_rsi(df, ticker)\n",
    "    #plot_macd(df, ticker)\n"
   ]
  },
  {
   "cell_type": "code",
   "execution_count": 11,
   "id": "cf7f8a34",
   "metadata": {},
   "outputs": [],
   "source": [
    "# ### Summary\n",
    "# All stocks have been processed. \n",
    "# Use the visualizations and metrics above to draw insights and comparisons.\n"
   ]
  }
 ],
 "metadata": {
  "kernelspec": {
   "display_name": ".venv",
   "language": "python",
   "name": "python3"
  },
  "language_info": {
   "codemirror_mode": {
    "name": "ipython",
    "version": 3
   },
   "file_extension": ".py",
   "mimetype": "text/x-python",
   "name": "python",
   "nbconvert_exporter": "python",
   "pygments_lexer": "ipython3",
   "version": "3.11.0"
  }
 },
 "nbformat": 4,
 "nbformat_minor": 5
}
