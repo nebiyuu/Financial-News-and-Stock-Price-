{
 "cells": [
  {
   "cell_type": "code",
   "execution_count": 1,
   "id": "a6501ff2",
   "metadata": {},
   "outputs": [],
   "source": [
    "import pandas as pd\n",
    "import nltk"
   ]
  },
  {
   "cell_type": "code",
   "execution_count": 2,
   "id": "e10b42e7",
   "metadata": {},
   "outputs": [
    {
     "data": {
      "text/html": [
       "<div>\n",
       "<style scoped>\n",
       "    .dataframe tbody tr th:only-of-type {\n",
       "        vertical-align: middle;\n",
       "    }\n",
       "\n",
       "    .dataframe tbody tr th {\n",
       "        vertical-align: top;\n",
       "    }\n",
       "\n",
       "    .dataframe thead th {\n",
       "        text-align: right;\n",
       "    }\n",
       "</style>\n",
       "<table border=\"1\" class=\"dataframe\">\n",
       "  <thead>\n",
       "    <tr style=\"text-align: right;\">\n",
       "      <th></th>\n",
       "      <th>Unnamed: 0</th>\n",
       "      <th>headline</th>\n",
       "      <th>url</th>\n",
       "      <th>publisher</th>\n",
       "      <th>date</th>\n",
       "      <th>stock</th>\n",
       "    </tr>\n",
       "  </thead>\n",
       "  <tbody>\n",
       "    <tr>\n",
       "      <th>0</th>\n",
       "      <td>0</td>\n",
       "      <td>Stocks That Hit 52-Week Highs On Friday</td>\n",
       "      <td>https://www.benzinga.com/news/20/06/16190091/s...</td>\n",
       "      <td>Benzinga Insights</td>\n",
       "      <td>2020-06-05 10:30:54-04:00</td>\n",
       "      <td>A</td>\n",
       "    </tr>\n",
       "    <tr>\n",
       "      <th>1</th>\n",
       "      <td>1</td>\n",
       "      <td>Stocks That Hit 52-Week Highs On Wednesday</td>\n",
       "      <td>https://www.benzinga.com/news/20/06/16170189/s...</td>\n",
       "      <td>Benzinga Insights</td>\n",
       "      <td>2020-06-03 10:45:20-04:00</td>\n",
       "      <td>A</td>\n",
       "    </tr>\n",
       "    <tr>\n",
       "      <th>2</th>\n",
       "      <td>2</td>\n",
       "      <td>71 Biggest Movers From Friday</td>\n",
       "      <td>https://www.benzinga.com/news/20/05/16103463/7...</td>\n",
       "      <td>Lisa Levin</td>\n",
       "      <td>2020-05-26 04:30:07-04:00</td>\n",
       "      <td>A</td>\n",
       "    </tr>\n",
       "    <tr>\n",
       "      <th>3</th>\n",
       "      <td>3</td>\n",
       "      <td>46 Stocks Moving In Friday's Mid-Day Session</td>\n",
       "      <td>https://www.benzinga.com/news/20/05/16095921/4...</td>\n",
       "      <td>Lisa Levin</td>\n",
       "      <td>2020-05-22 12:45:06-04:00</td>\n",
       "      <td>A</td>\n",
       "    </tr>\n",
       "    <tr>\n",
       "      <th>4</th>\n",
       "      <td>4</td>\n",
       "      <td>B of A Securities Maintains Neutral on Agilent...</td>\n",
       "      <td>https://www.benzinga.com/news/20/05/16095304/b...</td>\n",
       "      <td>Vick Meyer</td>\n",
       "      <td>2020-05-22 11:38:59-04:00</td>\n",
       "      <td>A</td>\n",
       "    </tr>\n",
       "  </tbody>\n",
       "</table>\n",
       "</div>"
      ],
      "text/plain": [
       "   Unnamed: 0                                           headline  \\\n",
       "0           0            Stocks That Hit 52-Week Highs On Friday   \n",
       "1           1         Stocks That Hit 52-Week Highs On Wednesday   \n",
       "2           2                      71 Biggest Movers From Friday   \n",
       "3           3       46 Stocks Moving In Friday's Mid-Day Session   \n",
       "4           4  B of A Securities Maintains Neutral on Agilent...   \n",
       "\n",
       "                                                 url          publisher  \\\n",
       "0  https://www.benzinga.com/news/20/06/16190091/s...  Benzinga Insights   \n",
       "1  https://www.benzinga.com/news/20/06/16170189/s...  Benzinga Insights   \n",
       "2  https://www.benzinga.com/news/20/05/16103463/7...         Lisa Levin   \n",
       "3  https://www.benzinga.com/news/20/05/16095921/4...         Lisa Levin   \n",
       "4  https://www.benzinga.com/news/20/05/16095304/b...         Vick Meyer   \n",
       "\n",
       "                        date stock  \n",
       "0  2020-06-05 10:30:54-04:00     A  \n",
       "1  2020-06-03 10:45:20-04:00     A  \n",
       "2  2020-05-26 04:30:07-04:00     A  \n",
       "3  2020-05-22 12:45:06-04:00     A  \n",
       "4  2020-05-22 11:38:59-04:00     A  "
      ]
     },
     "execution_count": 2,
     "metadata": {},
     "output_type": "execute_result"
    }
   ],
   "source": [
    "df = pd.read_csv('../Data/raw_analyst_ratings.csv')\n",
    "df.head()"
   ]
  },
  {
   "cell_type": "code",
   "execution_count": 3,
   "id": "4f1c85be",
   "metadata": {},
   "outputs": [],
   "source": [
    "df[\"cleaned_headline\"] = df[\"headline\"].str.lower()"
   ]
  },
  {
   "cell_type": "code",
   "execution_count": 4,
   "id": "79f6f7c6",
   "metadata": {},
   "outputs": [
    {
     "data": {
      "text/plain": [
       "0              stocks that hit 52-week highs on friday\n",
       "1           stocks that hit 52-week highs on wednesday\n",
       "2                        71 biggest movers from friday\n",
       "3         46 stocks moving in friday's mid-day session\n",
       "4    b of a securities maintains neutral on agilent...\n",
       "Name: cleaned_headline, dtype: object"
      ]
     },
     "execution_count": 4,
     "metadata": {},
     "output_type": "execute_result"
    }
   ],
   "source": [
    "df[\"cleaned_headline\"].head()"
   ]
  },
  {
   "cell_type": "code",
   "execution_count": 5,
   "id": "d24700d7",
   "metadata": {},
   "outputs": [
    {
     "data": {
      "text/plain": [
       "0               stocks that hit 52week highs on friday\n",
       "1            stocks that hit 52week highs on wednesday\n",
       "2                        71 biggest movers from friday\n",
       "3           46 stocks moving in fridays midday session\n",
       "4    b of a securities maintains neutral on agilent...\n",
       "Name: cleaned_headline, dtype: object"
      ]
     },
     "execution_count": 5,
     "metadata": {},
     "output_type": "execute_result"
    }
   ],
   "source": [
    "def remove_punctuation(text):\n",
    "    import string\n",
    "    return text.translate(str.maketrans('', '', string.punctuation))\n",
    "df[\"cleaned_headline\"] = df[\"cleaned_headline\"].apply(remove_punctuation)\n",
    "df[\"cleaned_headline\"].head()"
   ]
  },
  {
   "cell_type": "code",
   "execution_count": 42,
   "id": "1b91793e",
   "metadata": {},
   "outputs": [
    {
     "name": "stdout",
     "output_type": "stream",
     "text": [
      "['“', '”', '–', '😊', '₹']\n"
     ]
    }
   ],
   "source": [
    "import re\n",
    "\n",
    "def find_special_chars(text):\n",
    "    # Match non-ASCII, unusual punctuation, or invisible chars\n",
    "    return re.findall(r'[^\\w\\s.,!?;:\\'\\\"-]', text, re.UNICODE)\n",
    "\n",
    "# Example usage:\n",
    "sample_text = \"“Smart” quotes–and emojis😊 cost ₹2000...\"\n",
    "print(find_special_chars(sample_text))  \n",
    "# Output: ['“', '”', '–', '😊', '₹']"
   ]
  },
  {
   "cell_type": "code",
   "execution_count": 6,
   "id": "4ea5c884",
   "metadata": {},
   "outputs": [
    {
     "name": "stderr",
     "output_type": "stream",
     "text": [
      "[nltk_data] Downloading package stopwords to /home/sasa/nltk_data...\n",
      "[nltk_data]   Package stopwords is already up-to-date!\n"
     ]
    },
    {
     "data": {
      "text/plain": [
       "0                       stocks hit 52week highs friday\n",
       "1                    stocks hit 52week highs wednesday\n",
       "2                             71 biggest movers friday\n",
       "3              46 stocks moving fridays midday session\n",
       "4    b securities maintains neutral agilent technol...\n",
       "Name: cleaned_headline, dtype: object"
      ]
     },
     "execution_count": 6,
     "metadata": {},
     "output_type": "execute_result"
    }
   ],
   "source": [
    "#REMOVE STOPWORDS\n",
    "from nltk.corpus import stopwords\n",
    "nltk.download('stopwords')\n",
    "def remove_stopwords(text):\n",
    "    from nltk.corpus import stopwords\n",
    "    stop_words = set(stopwords.words('english'))\n",
    "    return ' '.join([word for word in text.split() if word not in stop_words])\n",
    "\n",
    "df[\"cleaned_headline\"] = df[\"cleaned_headline\"].apply(lambda x: remove_stopwords(x))\n",
    "df[\"cleaned_headline\"].head()"
   ]
  },
  {
   "cell_type": "code",
   "execution_count": 44,
   "id": "7ce93e58",
   "metadata": {},
   "outputs": [
    {
     "name": "stderr",
     "output_type": "stream",
     "text": [
      "[nltk_data] Downloading package punkt_tab to /home/sasa/nltk_data...\n",
      "[nltk_data]   Unzipping tokenizers/punkt_tab.zip.\n",
      "[nltk_data] Downloading package punkt to /home/sasa/nltk_data...\n",
      "[nltk_data]   Package punkt is already up-to-date!\n"
     ]
    }
   ],
   "source": [
    "# Tokenization\n",
    "from nltk.tokenize import word_tokenize\n",
    "\n",
    "# Download punkt tokenizer if not already available\n",
    "import nltk\n",
    "nltk.download('punkt_tab')  # Specifically download the missing resource\n",
    "nltk.download('punkt')      # Ensure the main punkt tokenizer is also available\n",
    "def tokenize_text(text):\n",
    "    return word_tokenize(text)\n",
    "\n",
    "# Apply tokenization to your dataframe column\n",
    "df[\"tokenized_headline\"] = df[\"cleaned_headline\"].apply(tokenize_text)"
   ]
  },
  {
   "cell_type": "code",
   "execution_count": 45,
   "id": "195c41b2",
   "metadata": {},
   "outputs": [
    {
     "data": {
      "text/plain": [
       "0                 [stocks, hit, 52week, highs, friday]\n",
       "1              [stocks, hit, 52week, highs, wednesday]\n",
       "2                        [71, biggest, movers, friday]\n",
       "3       [46, stocks, moving, fridays, midday, session]\n",
       "4    [b, securities, maintains, neutral, agilent, t...\n",
       "Name: tokenized_headline, dtype: object"
      ]
     },
     "execution_count": 45,
     "metadata": {},
     "output_type": "execute_result"
    }
   ],
   "source": [
    "df[\"tokenized_headline\"].head()"
   ]
  },
  {
   "cell_type": "code",
   "execution_count": null,
   "id": "2e22f65a",
   "metadata": {},
   "outputs": [
    {
     "name": "stderr",
     "output_type": "stream",
     "text": [
      "[nltk_data] Downloading package wordnet to /home/sasa/nltk_data...\n",
      "[nltk_data] Downloading package omw-1.4 to /home/sasa/nltk_data...\n"
     ]
    },
    {
     "name": "stdout",
     "output_type": "stream",
     "text": [
      "<class 'pandas.core.frame.DataFrame'>\n",
      "RangeIndex: 1407328 entries, 0 to 1407327\n",
      "Data columns (total 9 columns):\n",
      " #   Column               Non-Null Count    Dtype \n",
      "---  ------               --------------    ----- \n",
      " 0   Unnamed: 0           1407328 non-null  int64 \n",
      " 1   headline             1407328 non-null  object\n",
      " 2   url                  1407328 non-null  object\n",
      " 3   publisher            1407328 non-null  object\n",
      " 4   date                 1407328 non-null  object\n",
      " 5   stock                1407328 non-null  object\n",
      " 6   cleaned_headline     1407328 non-null  object\n",
      " 7   tokenized_headline   1407328 non-null  object\n",
      " 8   lemmatized_headline  1407328 non-null  object\n",
      "dtypes: int64(1), object(8)\n",
      "memory usage: 96.6+ MB\n"
     ]
    }
   ],
   "source": [
    "#lemmatization\n",
    "from nltk.stem import WordNetLemmatizer\n",
    "nltk.download('wordnet')\n",
    "nltk.download('omw-1.4')\n",
    "lemmatizer = WordNetLemmatizer()\n",
    "def lemmatize_text(tokens):\n",
    "    return [lemmatizer.lemmatize(token) for token in tokens]\n",
    "\n",
    "df[\"lemmatized_headline\"] = df[\"tokenized_headline\"].apply(lemmatize_text)\n",
    "df.info()"
   ]
  },
  {
   "cell_type": "code",
   "execution_count": 47,
   "id": "3b2633c5",
   "metadata": {},
   "outputs": [
    {
     "data": {
      "text/plain": [
       "0                   [stock, hit, 52week, high, friday]\n",
       "1                [stock, hit, 52week, high, wednesday]\n",
       "2                         [71, biggest, mover, friday]\n",
       "3         [46, stock, moving, friday, midday, session]\n",
       "4    [b, security, maintains, neutral, agilent, tec...\n",
       "Name: lemmatized_headline, dtype: object"
      ]
     },
     "execution_count": 47,
     "metadata": {},
     "output_type": "execute_result"
    }
   ],
   "source": [
    "df[\"lemmatized_headline\"].head()"
   ]
  }
 ],
 "metadata": {
  "kernelspec": {
   "display_name": "venv",
   "language": "python",
   "name": "python3"
  },
  "language_info": {
   "codemirror_mode": {
    "name": "ipython",
    "version": 3
   },
   "file_extension": ".py",
   "mimetype": "text/x-python",
   "name": "python",
   "nbconvert_exporter": "python",
   "pygments_lexer": "ipython3",
   "version": "3.13.3"
  }
 },
 "nbformat": 4,
 "nbformat_minor": 5
}
