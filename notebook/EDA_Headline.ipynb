{
 "cells": [
  {
   "cell_type": "code",
   "execution_count": 1,
   "id": "a6501ff2",
   "metadata": {},
   "outputs": [],
   "source": [
    "import pandas as pd\n",
    "import nltk\n",
    "from textblob import TextBlob\n",
    "import matplotlib.pyplot as plt\n",
    "import numpy as np\n",
    "import seaborn as sns\n",
    "\n"
   ]
  },
  {
   "cell_type": "code",
   "execution_count": 2,
   "id": "e10b42e7",
   "metadata": {},
   "outputs": [
    {
     "data": {
      "text/html": [
       "<div>\n",
       "<style scoped>\n",
       "    .dataframe tbody tr th:only-of-type {\n",
       "        vertical-align: middle;\n",
       "    }\n",
       "\n",
       "    .dataframe tbody tr th {\n",
       "        vertical-align: top;\n",
       "    }\n",
       "\n",
       "    .dataframe thead th {\n",
       "        text-align: right;\n",
       "    }\n",
       "</style>\n",
       "<table border=\"1\" class=\"dataframe\">\n",
       "  <thead>\n",
       "    <tr style=\"text-align: right;\">\n",
       "      <th></th>\n",
       "      <th>Unnamed: 0</th>\n",
       "      <th>headline</th>\n",
       "      <th>url</th>\n",
       "      <th>publisher</th>\n",
       "      <th>date</th>\n",
       "      <th>stock</th>\n",
       "    </tr>\n",
       "  </thead>\n",
       "  <tbody>\n",
       "    <tr>\n",
       "      <th>0</th>\n",
       "      <td>0</td>\n",
       "      <td>Stocks That Hit 52-Week Highs On Friday</td>\n",
       "      <td>https://www.benzinga.com/news/20/06/16190091/s...</td>\n",
       "      <td>Benzinga Insights</td>\n",
       "      <td>2020-06-05 10:30:54-04:00</td>\n",
       "      <td>A</td>\n",
       "    </tr>\n",
       "    <tr>\n",
       "      <th>1</th>\n",
       "      <td>1</td>\n",
       "      <td>Stocks That Hit 52-Week Highs On Wednesday</td>\n",
       "      <td>https://www.benzinga.com/news/20/06/16170189/s...</td>\n",
       "      <td>Benzinga Insights</td>\n",
       "      <td>2020-06-03 10:45:20-04:00</td>\n",
       "      <td>A</td>\n",
       "    </tr>\n",
       "    <tr>\n",
       "      <th>2</th>\n",
       "      <td>2</td>\n",
       "      <td>71 Biggest Movers From Friday</td>\n",
       "      <td>https://www.benzinga.com/news/20/05/16103463/7...</td>\n",
       "      <td>Lisa Levin</td>\n",
       "      <td>2020-05-26 04:30:07-04:00</td>\n",
       "      <td>A</td>\n",
       "    </tr>\n",
       "    <tr>\n",
       "      <th>3</th>\n",
       "      <td>3</td>\n",
       "      <td>46 Stocks Moving In Friday's Mid-Day Session</td>\n",
       "      <td>https://www.benzinga.com/news/20/05/16095921/4...</td>\n",
       "      <td>Lisa Levin</td>\n",
       "      <td>2020-05-22 12:45:06-04:00</td>\n",
       "      <td>A</td>\n",
       "    </tr>\n",
       "    <tr>\n",
       "      <th>4</th>\n",
       "      <td>4</td>\n",
       "      <td>B of A Securities Maintains Neutral on Agilent...</td>\n",
       "      <td>https://www.benzinga.com/news/20/05/16095304/b...</td>\n",
       "      <td>Vick Meyer</td>\n",
       "      <td>2020-05-22 11:38:59-04:00</td>\n",
       "      <td>A</td>\n",
       "    </tr>\n",
       "  </tbody>\n",
       "</table>\n",
       "</div>"
      ],
      "text/plain": [
       "   Unnamed: 0                                           headline  \\\n",
       "0           0            Stocks That Hit 52-Week Highs On Friday   \n",
       "1           1         Stocks That Hit 52-Week Highs On Wednesday   \n",
       "2           2                      71 Biggest Movers From Friday   \n",
       "3           3       46 Stocks Moving In Friday's Mid-Day Session   \n",
       "4           4  B of A Securities Maintains Neutral on Agilent...   \n",
       "\n",
       "                                                 url          publisher  \\\n",
       "0  https://www.benzinga.com/news/20/06/16190091/s...  Benzinga Insights   \n",
       "1  https://www.benzinga.com/news/20/06/16170189/s...  Benzinga Insights   \n",
       "2  https://www.benzinga.com/news/20/05/16103463/7...         Lisa Levin   \n",
       "3  https://www.benzinga.com/news/20/05/16095921/4...         Lisa Levin   \n",
       "4  https://www.benzinga.com/news/20/05/16095304/b...         Vick Meyer   \n",
       "\n",
       "                        date stock  \n",
       "0  2020-06-05 10:30:54-04:00     A  \n",
       "1  2020-06-03 10:45:20-04:00     A  \n",
       "2  2020-05-26 04:30:07-04:00     A  \n",
       "3  2020-05-22 12:45:06-04:00     A  \n",
       "4  2020-05-22 11:38:59-04:00     A  "
      ]
     },
     "execution_count": 2,
     "metadata": {},
     "output_type": "execute_result"
    }
   ],
   "source": [
    "df = pd.read_csv('../Data/raw_analyst_ratings.csv')\n",
    "df.head()"
   ]
  },
  {
   "cell_type": "code",
   "execution_count": 3,
   "id": "bf4af26b",
   "metadata": {},
   "outputs": [],
   "source": [
    "df['date'] = pd.to_datetime(df['date'], format='ISO8601')"
   ]
  },
  {
   "cell_type": "code",
   "execution_count": 4,
   "id": "4f1c85be",
   "metadata": {},
   "outputs": [
    {
     "data": {
      "text/plain": [
       "0              stocks that hit 52-week highs on friday\n",
       "1           stocks that hit 52-week highs on wednesday\n",
       "2                        71 biggest movers from friday\n",
       "3         46 stocks moving in friday's mid-day session\n",
       "4    b of a securities maintains neutral on agilent...\n",
       "Name: cleaned_headline, dtype: object"
      ]
     },
     "execution_count": 4,
     "metadata": {},
     "output_type": "execute_result"
    }
   ],
   "source": [
    "#converted to lower case\n",
    "df[\"cleaned_headline\"] = df[\"headline\"].str.lower()\n",
    "df[\"cleaned_headline\"].head()\n"
   ]
  },
  {
   "cell_type": "code",
   "execution_count": 5,
   "id": "d24700d7",
   "metadata": {},
   "outputs": [
    {
     "data": {
      "text/plain": [
       "0               stocks that hit 52week highs on friday\n",
       "1            stocks that hit 52week highs on wednesday\n",
       "2                        71 biggest movers from friday\n",
       "3           46 stocks moving in fridays midday session\n",
       "4    b of a securities maintains neutral on agilent...\n",
       "Name: cleaned_headline, dtype: object"
      ]
     },
     "execution_count": 5,
     "metadata": {},
     "output_type": "execute_result"
    }
   ],
   "source": [
    "#removed punctuation\n",
    "def remove_punctuation(text):\n",
    "    import string\n",
    "    return text.translate(str.maketrans('', '', string.punctuation))\n",
    "df[\"cleaned_headline\"] = df[\"cleaned_headline\"].apply(remove_punctuation)\n",
    "df[\"cleaned_headline\"].head()"
   ]
  },
  {
   "cell_type": "code",
   "execution_count": 6,
   "id": "1b91793e",
   "metadata": {},
   "outputs": [
    {
     "name": "stdout",
     "output_type": "stream",
     "text": [
      "['“', '”', '–', '😊', '₹']\n"
     ]
    }
   ],
   "source": [
    "#removed special characters\n",
    "import re\n",
    "\n",
    "def find_special_chars(text):\n",
    "    # Match non-ASCII, unusual punctuation, or invisible chars\n",
    "    return re.findall(r'[^\\w\\s.,!?;:\\'\\\"-]', text, re.UNICODE)\n",
    "\n",
    "# Example usage:\n",
    "sample_text = \"“Smart” quotes–and emojis😊 cost ₹2000...\"\n",
    "print(find_special_chars(sample_text))  \n",
    "# Output: ['“', '”', '–', '😊', '₹']"
   ]
  },
  {
   "cell_type": "code",
   "execution_count": 7,
   "id": "4ea5c884",
   "metadata": {},
   "outputs": [
    {
     "name": "stderr",
     "output_type": "stream",
     "text": [
      "[nltk_data] Downloading package stopwords to /home/sasa/nltk_data...\n",
      "[nltk_data]   Package stopwords is already up-to-date!\n"
     ]
    },
    {
     "data": {
      "text/plain": [
       "0                       stocks hit 52week highs friday\n",
       "1                    stocks hit 52week highs wednesday\n",
       "2                             71 biggest movers friday\n",
       "3              46 stocks moving fridays midday session\n",
       "4    b securities maintains neutral agilent technol...\n",
       "Name: cleaned_headline, dtype: object"
      ]
     },
     "execution_count": 7,
     "metadata": {},
     "output_type": "execute_result"
    }
   ],
   "source": [
    "#REMOVE STOPWORDS\n",
    "from nltk.corpus import stopwords\n",
    "nltk.download('stopwords')\n",
    "def remove_stopwords(text):\n",
    "    from nltk.corpus import stopwords\n",
    "    stop_words = set(stopwords.words('english'))\n",
    "    return ' '.join([word for word in text.split() if word not in stop_words])\n",
    "\n",
    "df[\"cleaned_headline\"] = df[\"cleaned_headline\"].apply(lambda x: remove_stopwords(x))\n",
    "df[\"cleaned_headline\"].head()"
   ]
  },
  {
   "cell_type": "code",
   "execution_count": 8,
   "id": "7ce93e58",
   "metadata": {},
   "outputs": [
    {
     "name": "stderr",
     "output_type": "stream",
     "text": [
      "[nltk_data] Downloading package punkt_tab to /home/sasa/nltk_data...\n",
      "[nltk_data]   Package punkt_tab is already up-to-date!\n",
      "[nltk_data] Downloading package punkt to /home/sasa/nltk_data...\n",
      "[nltk_data]   Package punkt is already up-to-date!\n"
     ]
    },
    {
     "data": {
      "text/plain": [
       "0                 [stocks, hit, 52week, highs, friday]\n",
       "1              [stocks, hit, 52week, highs, wednesday]\n",
       "2                        [71, biggest, movers, friday]\n",
       "3       [46, stocks, moving, fridays, midday, session]\n",
       "4    [b, securities, maintains, neutral, agilent, t...\n",
       "Name: tokenized_headline, dtype: object"
      ]
     },
     "execution_count": 8,
     "metadata": {},
     "output_type": "execute_result"
    }
   ],
   "source": [
    "# Tokenization\n",
    "from nltk.tokenize import word_tokenize\n",
    "\n",
    "# Download punkt tokenizer if not already available\n",
    "import nltk\n",
    "nltk.download('punkt_tab')  # Specifically download the missing resource\n",
    "nltk.download('punkt')      # Ensure the main punkt tokenizer is also available\n",
    "def tokenize_text(text):\n",
    "    return word_tokenize(text)\n",
    "\n",
    "# Apply tokenization to your dataframe column\n",
    "df[\"tokenized_headline\"] = df[\"cleaned_headline\"].apply(tokenize_text)\n",
    "df[\"tokenized_headline\"].head()"
   ]
  },
  {
   "cell_type": "code",
   "execution_count": 9,
   "id": "2e22f65a",
   "metadata": {},
   "outputs": [
    {
     "name": "stderr",
     "output_type": "stream",
     "text": [
      "[nltk_data] Downloading package wordnet to /home/sasa/nltk_data...\n",
      "[nltk_data]   Package wordnet is already up-to-date!\n",
      "[nltk_data] Downloading package omw-1.4 to /home/sasa/nltk_data...\n",
      "[nltk_data]   Package omw-1.4 is already up-to-date!\n"
     ]
    },
    {
     "name": "stdout",
     "output_type": "stream",
     "text": [
      "<class 'pandas.core.frame.DataFrame'>\n",
      "RangeIndex: 1407328 entries, 0 to 1407327\n",
      "Data columns (total 9 columns):\n",
      " #   Column               Non-Null Count    Dtype                    \n",
      "---  ------               --------------    -----                    \n",
      " 0   Unnamed: 0           1407328 non-null  int64                    \n",
      " 1   headline             1407328 non-null  object                   \n",
      " 2   url                  1407328 non-null  object                   \n",
      " 3   publisher            1407328 non-null  object                   \n",
      " 4   date                 1407328 non-null  datetime64[ns, UTC-04:00]\n",
      " 5   stock                1407328 non-null  object                   \n",
      " 6   cleaned_headline     1407328 non-null  object                   \n",
      " 7   tokenized_headline   1407328 non-null  object                   \n",
      " 8   lemmatized_headline  1407328 non-null  object                   \n",
      "dtypes: datetime64[ns, UTC-04:00](1), int64(1), object(7)\n",
      "memory usage: 96.6+ MB\n"
     ]
    }
   ],
   "source": [
    "#lemmatization\n",
    "from nltk.stem import WordNetLemmatizer\n",
    "nltk.download('wordnet')\n",
    "nltk.download('omw-1.4')\n",
    "lemmatizer = WordNetLemmatizer()\n",
    "def lemmatize_text(tokens):\n",
    "    return [lemmatizer.lemmatize(token) for token in tokens]\n",
    "\n",
    "df[\"lemmatized_headline\"] = df[\"tokenized_headline\"].apply(lemmatize_text)\n",
    "df.info()"
   ]
  },
  {
   "cell_type": "code",
   "execution_count": 10,
   "id": "3b2633c5",
   "metadata": {},
   "outputs": [
    {
     "data": {
      "text/plain": [
       "0                   [stock, hit, 52week, high, friday]\n",
       "1                [stock, hit, 52week, high, wednesday]\n",
       "2                         [71, biggest, mover, friday]\n",
       "3         [46, stock, moving, friday, midday, session]\n",
       "4    [b, security, maintains, neutral, agilent, tec...\n",
       "Name: lemmatized_headline, dtype: object"
      ]
     },
     "execution_count": 10,
     "metadata": {},
     "output_type": "execute_result"
    }
   ],
   "source": [
    "df[\"lemmatized_headline\"].head()"
   ]
  },
  {
   "cell_type": "code",
   "execution_count": 11,
   "id": "aaea594a",
   "metadata": {},
   "outputs": [
    {
     "name": "stdout",
     "output_type": "stream",
     "text": [
      "[('stock', 201091), ('v', 162683), ('est', 140632), ('eps', 128910), ('share', 126676), ('report', 124499), ('market', 120897), ('update', 93394), ('earnings', 87184), ('sale', 85318), ('top', 81250), ('price', 74210), ('pt', 73133), ('buy', 68660), ('lower', 68095), ('announces', 66528), ('company', 65423), ('downgrade', 63812), ('trading', 61163), ('raise', 59896), ('upgrade', 58999), ('target', 56338), ('benzingas', 54907), ('maintains', 52961), ('etf', 50029), ('estimate', 49939), ('52week', 49802), ('u', 49151), ('higher', 48163), ('new', 48062), ('session', 45810), ('inc', 45102), ('say', 44272), ('moving', 42264), ('see', 40864), ('q4', 40448), ('revenue', 39860), ('bank', 39642), ('premarket', 39322), ('q1', 38435), ('midday', 37881), ('q2', 37561), ('q3', 36822), ('high', 35956), ('energy', 35617), ('initiate', 35335), ('neutral', 34408), ('industry', 32996), ('scheduled', 32835), ('low', 32523), ('coverage', 32349), ('beat', 31391), ('morgan', 31065), ('biggest', 30818), ('capital', 29655), ('4', 28876), ('watch', 28550), ('yesterday', 28179), ('may', 28155), ('mover', 28021)]\n"
     ]
    }
   ],
   "source": [
    "#the highest occurrence of a word in the lemmatized_headline column\n",
    "from collections import Counter\n",
    "def get_most_common_words(tokens_list, n=10):\n",
    "    all_words = [word for tokens in tokens_list for word in tokens]\n",
    "    return Counter(all_words).most_common(n)\n",
    "# Get the 60 most common words\n",
    "most_common_words = get_most_common_words(df[\"lemmatized_headline\"], n=60)\n",
    "print(most_common_words)"
   ]
  },
  {
   "cell_type": "code",
   "execution_count": 12,
   "id": "121d0c19",
   "metadata": {},
   "outputs": [
    {
     "name": "stdout",
     "output_type": "stream",
     "text": [
      "<class 'pandas.core.frame.DataFrame'>\n",
      "RangeIndex: 1407328 entries, 0 to 1407327\n",
      "Data columns (total 9 columns):\n",
      " #   Column               Non-Null Count    Dtype                    \n",
      "---  ------               --------------    -----                    \n",
      " 0   Unnamed: 0           1407328 non-null  int64                    \n",
      " 1   headline             1407328 non-null  object                   \n",
      " 2   url                  1407328 non-null  object                   \n",
      " 3   publisher            1407328 non-null  object                   \n",
      " 4   date                 1407328 non-null  datetime64[ns, UTC-04:00]\n",
      " 5   stock                1407328 non-null  object                   \n",
      " 6   cleaned_headline     1407328 non-null  object                   \n",
      " 7   tokenized_headline   1407328 non-null  object                   \n",
      " 8   lemmatized_headline  1407328 non-null  object                   \n",
      "dtypes: datetime64[ns, UTC-04:00](1), int64(1), object(7)\n",
      "memory usage: 96.6+ MB\n"
     ]
    }
   ],
   "source": [
    "df.info()\n"
   ]
  },
  {
   "cell_type": "code",
   "execution_count": null,
   "id": "d3321040",
   "metadata": {},
   "outputs": [],
   "source": [
    "import src.sentiment as sentiment_module\n",
    "# Applying the sentiment analysis function to your headlines\n",
    "df['Sentiment'] = calculate_sentiment(df['cleaned_headline'])"
   ]
  },
  {
   "cell_type": "code",
   "execution_count": 14,
   "id": "7aa29cf7",
   "metadata": {},
   "outputs": [
    {
     "name": "stdout",
     "output_type": "stream",
     "text": [
      "10 highest sentiment values:\n",
      "                                               headline  Sentiment\n",
      "819            Best Buy: Analysts' Upgrades, Downgrades        1.0\n",
      "1343    OneMove(TM) Records its Best Month Ever in July        1.0\n",
      "1382  Klondike Silver Completes Underground Drilling...        1.0\n",
      "1849                             10 Best Stocks Of 2017        1.0\n",
      "2270          Miners: The Best Way To Play A Rate Hike?        1.0\n",
      "3635          Why 'Year's Best' Stocks May Flop in 2011        1.0\n",
      "3637               10 Best Dow Dividend Stocks for 2011        1.0\n",
      "3764  What Is The Best Aluminum Stock? (KALU, AA, AC...        1.0\n",
      "3967  Market News – Bank of America (NYSE:BAC), Morg...        1.0\n",
      "3968  Market News – Bank of America (NYSE:BAC), Morg...        1.0\n",
      "10 lowest sentiment values:\n",
      "                                               headline  Sentiment\n",
      "2552  Tech, Semiconductors Among Worst Performers As...       -1.0\n",
      "3175               I've just made a horrible investment       -1.0\n",
      "5658   Worst Performing Industries For October 13, 2016       -1.0\n",
      "5710   Worst Performing Industries For December 2, 2014       -1.0\n",
      "6100                            10 Worst Stocks Of 2017       -1.0\n",
      "6243  Worst Performing Industries For September 29, ...       -1.0\n",
      "6282        Worst Performing Industries For May 5, 2016       -1.0\n",
      "6312  Worst Performing Industries For November 12, 2015       -1.0\n",
      "6354  Worst Performing Industries For February 12, 2015       -1.0\n",
      "6390      Worst Performing Industries For July 22, 2014       -1.0\n"
     ]
    }
   ],
   "source": [
    "#print the first 70 sentiment values\n",
    "df[\"Sentiment\"].head(70)\n",
    "#print 10 highest sentiment values\n",
    "print(\"10 highest sentiment values:\")\n",
    "print(df.nlargest(10, 'Sentiment')[['headline', 'Sentiment']])\n",
    "# Print the 10 lowest sentiment values\n",
    "print(\"10 lowest sentiment values:\")\n",
    "print(df.nsmallest(10, 'Sentiment')[['headline', 'Sentiment']])\n",
    "#print the higjhest sentiment value\n",
    "#highest_sentiment = df.loc[df['Sentiment'].idxmax()]\n",
    "#print(\"Headline with highest sentiment:\")\n",
    "#print(highest_sentiment['headline'])\n",
    "# Print the highest sentiment value\n",
    "#print(\"Highest sentiment value:\", highest_sentiment['Sentiment'])\n",
    "# Print the lowest sentiment value\n",
    "#lowest_sentiment = df.loc[df['Sentiment'].idxmin()]\n",
    "#print(\"Headline with lowest sentiment:\")    "
   ]
  },
  {
   "cell_type": "code",
   "execution_count": 15,
   "id": "938ca644",
   "metadata": {},
   "outputs": [
    {
     "name": "stdout",
     "output_type": "stream",
     "text": [
      "Number of positive headlines: 341161\n",
      "Number of negative headlines: 131239\n",
      "Number of neutral headlines: 934928\n"
     ]
    }
   ],
   "source": [
    "#count the number of positive, negative and neutral headlines\n",
    "positive_count = df[df['Sentiment'] > 0].shape[0]\n",
    "negative_count = df[df['Sentiment'] < 0].shape[0]\n",
    "neutral_count = df[df['Sentiment'] == 0].shape[0]\n",
    "print(f\"Number of positive headlines: {positive_count}\")\n",
    "print(f\"Number of negative headlines: {negative_count}\")\n",
    "print(f\"Number of neutral headlines: {neutral_count}\")"
   ]
  },
  {
   "cell_type": "code",
   "execution_count": 16,
   "id": "a5ea7552",
   "metadata": {},
   "outputs": [
    {
     "name": "stdout",
     "output_type": "stream",
     "text": [
      "sentiment_std:  0.18306517469233205\n"
     ]
    },
    {
     "data": {
      "image/png": "[encoded data removed]",
      "text/plain": [
       "<Figure size 1200x600 with 1 Axes>"
      ]
     },
     "metadata": {},
     "output_type": "display_data"
    }
   ],
   "source": [
    "\n",
    "# Plot the distribution of sentiment values\n",
    "plt.figure(figsize=(12, 6))\n",
    "plt.hist(df['Sentiment'], bins=30, color='blue', alpha=0.7)\n",
    "plt.title('Distribution of Sentiment Values')\n",
    "\n",
    "#calculate standart diviation\n",
    "sentiment_std=df['Sentiment'].std()\n",
    "print(\"sentiment_std: \",sentiment_std)\n"
   ]
  },
  {
   "cell_type": "code",
   "execution_count": 17,
   "id": "24d2c0fc",
   "metadata": {},
   "outputs": [],
   "source": [
    "#Date separated by year month week day time\n",
    "df['date'] = pd.to_datetime(df['date'], format='ISO8601')\n",
    "\n",
    "df['year'] = df['date'].dt.year\n",
    "df['month'] = df['date'].dt.month\n",
    "df['week'] = df['date'].dt.isocalendar().week\n",
    "df['day'] = df['date'].dt.day\n",
    "df['time'] = df['date'].dt.time\n"
   ]
  },
  {
   "cell_type": "code",
   "execution_count": 18,
   "id": "f5dc1bae",
   "metadata": {},
   "outputs": [],
   "source": [
    "#save the dataframe to a csv file\n",
    "df.to_csv('../Data/new/processed_analyst_ratings.csv', index=False)"
   ]
  }
 ],
 "metadata": {
  "kernelspec": {
   "display_name": "venv",
   "language": "python",
   "name": "python3"
  },
  "language_info": {
   "codemirror_mode": {
    "name": "ipython",
    "version": 3
   },
   "file_extension": ".py",
   "mimetype": "text/x-python",
   "name": "python",
   "nbconvert_exporter": "python",
   "pygments_lexer": "ipython3",
   "version": "3.13.3"
  }
 },
 "nbformat": 4,
 "nbformat_minor": 5
}
