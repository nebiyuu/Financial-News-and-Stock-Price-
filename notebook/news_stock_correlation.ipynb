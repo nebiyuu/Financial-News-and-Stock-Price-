{
 "cells": [
  {
   "cell_type": "code",
   "execution_count": 2,
   "id": "9650f1d4",
   "metadata": {},
   "outputs": [],
   "source": [
    "import sys\n",
    "import os\n",
    "\n",
    "# Add the parent directory to the Python path\n",
    "sys.path.append(os.path.abspath(\"..\"))\n",
    "import pandas as pd\n",
    "from src.data_loader import load_all_stock_data\n",
    "from src.sentiment_analysis import compute_sentiment\n",
    "from src.correlation_analysis import align_dates"
   ]
  },
  {
   "cell_type": "code",
   "execution_count": 18,
   "id": "c241df32",
   "metadata": {},
   "outputs": [],
   "source": [
    "from src.data_loader import load_all_stock_data\n",
    "import pandas as pd\n",
    "# Load stock and news data\n",
    "stock_data =pd.read_csv('../Data/yfinance_data/new_with_indicators.csv')\n",
    "news_df = pd.read_csv('../Data/new/processed_analyst_ratings.csv')\n"
   ]
  },
  {
   "cell_type": "code",
   "execution_count": 21,
   "id": "bc312098",
   "metadata": {},
   "outputs": [
    {
     "name": "stdout",
     "output_type": "stream",
     "text": [
      "<class 'pandas.core.frame.DataFrame'>\n",
      "RangeIndex: 1407328 entries, 0 to 1407327\n",
      "Data columns (total 15 columns):\n",
      " #   Column               Non-Null Count    Dtype  \n",
      "---  ------               --------------    -----  \n",
      " 0   Unnamed: 0           1407328 non-null  int64  \n",
      " 1   headline             1407328 non-null  object \n",
      " 2   url                  1407328 non-null  object \n",
      " 3   publisher            1407328 non-null  object \n",
      " 4   date                 1407328 non-null  object \n",
      " 5   stock                1407328 non-null  object \n",
      " 6   cleaned_headline     1407326 non-null  object \n",
      " 7   tokenized_headline   1407328 non-null  object \n",
      " 8   lemmatized_headline  1407328 non-null  object \n",
      " 9   Sentiment            1407328 non-null  float64\n",
      " 10  year                 1407328 non-null  int64  \n",
      " 11  month                1407328 non-null  int64  \n",
      " 12  week                 1407328 non-null  int64  \n",
      " 13  day                  1407328 non-null  int64  \n",
      " 14  time                 1407328 non-null  object \n",
      "dtypes: float64(1), int64(5), object(9)\n",
      "memory usage: 161.1+ MB\n"
     ]
    }
   ],
   "source": [
    "#stock_data.columns\n",
    "news_df.columns\n",
    "news_df.info()"
   ]
  },
  {
   "cell_type": "code",
   "execution_count": null,
   "id": "f7d64864",
   "metadata": {},
   "outputs": [],
   "source": [
    "#align dates\n",
    "import pandas as pd\n",
    "\n",
    "\n",
    "\n",
    "# Convert dates to datetime and extract just the date part\n",
    "news_df['date'] = pd.to_datetime(news_df['date']).dt.date\n",
    "stock_data['date'] = pd.to_datetime(stock_data['date']).dt.date\n",
    "\n",
    "# Merge the datasets on date (inner join keeps only matching dates)\n",
    "aligned_data = pd.merge(news_df, stock_data, on='date', how='inner')\n",
    "\n",
    "# Add daily stock returns calculation\n",
    "aligned_data['daily_return'] = aligned_data['close'].pct_change() * 100\n",
    "\n",
    "# Save the aligned data\n",
    "aligned_data.to_csv('aligned_news_stock_data.csv', index=False)\n",
    "\n",
    "# Print basic info\n",
    "print(f\"Aligned data saved with {len(aligned_data)} rows\")\n",
    "print(f\"Date range: {aligned_data['date'].min()} to {aligned_data['date'].max()}\")\n",
    "print(\"Columns available:\", aligned_data.columns.tolist())"
   ]
  },
  {
   "cell_type": "code",
   "execution_count": 14,
   "id": "a998001e",
   "metadata": {},
   "outputs": [],
   "source": [
    "# Compute sentiment scores for news headlines\n",
    "aligned_df = compute_sentiment(aligned_df)\n"
   ]
  },
  {
   "cell_type": "code",
   "execution_count": null,
   "id": "09f4da36",
   "metadata": {},
   "outputs": [],
   "source": [
    "# Add daily stock returns to the aligned dataset\n",
    "aligned_df[\"Daily Return\"] = aligned_df[\"Close\"].pct_change()\n"
   ]
  },
  {
   "cell_type": "code",
   "execution_count": null,
   "id": "b45c7533",
   "metadata": {},
   "outputs": [],
   "source": [
    "# Calculate the correlation coefficient\n",
    "correlation = calculate_correlation(aligned_df)\n",
    "print(f\"Correlation between sentiment and daily returns for {ticker}: {correlation:.2f}\")\n"
   ]
  },
  {
   "cell_type": "code",
   "execution_count": null,
   "id": "96b652cd",
   "metadata": {},
   "outputs": [],
   "source": [
    "import matplotlib.pyplot as plt\n",
    "\n",
    "# Plot sentiment scores and daily returns\n",
    "plt.figure(figsize=(12, 6))\n",
    "plt.plot(aligned_df[\"Date\"], aligned_df[\"Sentiment\"], label=\"Sentiment Score\")\n",
    "plt.plot(aligned_df[\"Date\"], aligned_df[\"Daily Return\"], label=\"Daily Return\")\n",
    "plt.legend()\n",
    "plt.title(f\"Sentiment Scores and Daily Returns for {ticker}\")\n",
    "plt.xlabel(\"Date\")\n",
    "plt.ylabel(\"Value\")\n",
    "plt.show()\n"
   ]
  },
  {
   "cell_type": "code",
   "execution_count": null,
   "id": "bea937a3",
   "metadata": {},
   "outputs": [],
   "source": []
  }
 ],
 "metadata": {
  "kernelspec": {
   "display_name": "venv",
   "language": "python",
   "name": "python3"
  },
  "language_info": {
   "codemirror_mode": {
    "name": "ipython",
    "version": 3
   },
   "file_extension": ".py",
   "mimetype": "text/x-python",
   "name": "python",
   "nbconvert_exporter": "python",
   "pygments_lexer": "ipython3",
   "version": "3.13.3"
  }
 },
 "nbformat": 4,
 "nbformat_minor": 5
}
